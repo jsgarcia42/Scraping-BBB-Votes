{
 "cells": [
  {
   "cell_type": "code",
   "execution_count": 11,
   "id": "4cf1f3f0",
   "metadata": {},
   "outputs": [
    {
     "name": "stdout",
     "output_type": "stream",
     "text": [
      "[12.23, 80.25, 7.52, 85919.0]\n",
      "Deu ruim :c\n"
     ]
    }
   ],
   "source": [
    "import pandas as pd\n",
    "import time\n",
    "from selenium import webdriver\n",
    "from selenium.webdriver.support.ui import WebDriverWait\n",
    "\n",
    "#variables\n",
    "browser = webdriver.Chrome()\n",
    "\n",
    "#sites\n",
    "uol = 'https://www.uol.com.br/splash/bbb/enquetes/2022/04/11/quem-voce-quer-eliminar-do-bbb-22.htm'\n",
    "naTelinha = 'https://natelinha.uol.com.br/bbb'\n",
    "\n",
    "browser.get(uol)\n",
    "browser.maximize_window()\n",
    "browser.implicitly_wait(10)\n",
    "\n",
    "sites = ['Uol', 'Na Telinha', 'Área Vip', \n",
    "         'RD1', 'Fashion Bubles', 'Horas Brasil', \n",
    "         'Jornal DCI', 'F5/Folha', 'iBahia', \n",
    "         'Caras', 'Extra Globo', 'BolaVip', \n",
    "         'Capricho', 'Diário 24h', 'Diário Nordeste', \n",
    "         'EmOff', 'Votalhada']\n",
    "names = []\n",
    "\n",
    "#get names uol\n",
    "for i in range (2,5):\n",
    "    name = browser.find_element_by_xpath(f'//*[@id=\"answer-91987{i}\"]/div[2]/label/span[1]').text\n",
    "    names.append(name)\n",
    "\n",
    "#mainDf = pd.DataFrame(index=sites, columns=names)\n",
    "#mainDf.insert(loc=3, column='Total de votos', value='')\n",
    "\n",
    "\n",
    "#close cookie alert \n",
    "browser.find_element_by_xpath('/html/body/div[9]/div/div[2]/button').click()\n",
    "\n",
    "votesUol = []\n",
    "\n",
    "#Open results\n",
    "time.sleep(2)\n",
    "browser.find_element_by_xpath('/html/body/article/div[2]/div/div[1]/div/div[2]/div[1]/div[4]/div[1]/div[3]/a').click()\n",
    "time.sleep(2)\n",
    "for i in range (2,5):\n",
    "    votacao = browser.find_element_by_xpath(f'//*[@id=\"answer-91987{i}\"]/div[1]/div/div/span[1]').get_attribute('textContent')\n",
    "    votesUol.append(votacao)\n",
    "\n",
    "totalVot = browser.find_element_by_xpath('/html/body/div[11]/div/div/div[1]/span').text\n",
    "votesUol.append(totalVot)\n",
    "votesUol = [p.replace('%', '').replace(',', '.') for p in votesUol]\n",
    "votesUol = list(map(float, votesUol))\n",
    "\n",
    "\n",
    "print(votesUol)\n",
    "\n",
    "browser.get(naTelinha)\n",
    "\n",
    "\n"
   ]
  },
  {
   "cell_type": "code",
   "execution_count": 40,
   "id": "0ae445e8",
   "metadata": {
    "scrolled": true
   },
   "outputs": [
    {
     "name": "stdout",
     "output_type": "stream",
     "text": [
      "\n"
     ]
    }
   ],
   "source": [
    "import pandas as pd\n",
    "import time\n",
    "from selenium import webdriver\n",
    "from selenium.webdriver.support.ui import WebDriverWait\n",
    "\n",
    "#variables\n",
    "browser = webdriver.Chrome()\n",
    "\n",
    "#sites\n",
    "naTelinha = 'https://natelinha.uol.com.br/bbb'\n",
    "\n",
    "browser.get(naTelinha)\n",
    "browser.maximize_window()\n",
    "browser.implicitly_wait(3)\n",
    "\n",
    "#close cookie alert \n",
    "browser.find_element_by_xpath('/html/body/div[5]/div/div[2]/button').click()\n",
    "time.sleep(3)\n",
    "\n",
    "#iframe = browser.find_element_by_xpath('//*[@id=\"g-recaptcha\"]/div/div/iframe')\n",
    "#print(iframe)\n",
    "\n",
    "#browser.switch_to.frame(iframe)\n",
    "\n",
    "\n",
    "#frame = browser.find_element_by_id(\"recaptcha-anchor\")\n",
    "#browser.execute_script(\"arguments[0].click();\", frame)\n",
    "\n",
    "votoss = browser.find_element_by_xpath('/html/body/div[4]/section[3]/div/div[3]/div[2]').get_attribute('textContent')\n",
    "\n",
    "print (votoss)"
   ]
  },
  {
   "cell_type": "code",
   "execution_count": 39,
   "id": "9c91927a",
   "metadata": {},
   "outputs": [
    {
     "name": "stdout",
     "output_type": "stream",
     "text": [
      "Sphinx thinks you said it's flame retardant for\n",
      "Google Speech Recognition thinks you said where is flame retardant\n"
     ]
    }
   ],
   "source": [
    "import speech_recognition as sr\n",
    "from os import path\n",
    "\n",
    "AUDIO_FILE = path.join(path.dirname(path.realpath(\"audio\")), \"audio.wav\")\n",
    "\n",
    "r = sr.Recognizer()\n",
    "with sr.AudioFile(AUDIO_FILE) as source:\n",
    "    audio = r.record(source)  \n",
    "\n",
    "# recognize speech using Sphinx\n",
    "try:\n",
    "    print(\"Sphinx thinks you said \" + r.recognize_sphinx(audio))\n",
    "except sr.UnknownValueError:\n",
    "    print(\"Sphinx could not understand audio\")\n",
    "except sr.RequestError as e:\n",
    "    print(\"Sphinx error; {0}\".format(e))\n",
    "    \n",
    "# recognize speech using Google Speech Recognition\n",
    "try:\n",
    "    print(\"Google Speech Recognition thinks you said \" + r.recognize_google(audio))\n",
    "except sr.UnknownValueError:\n",
    "    print(\"Google Speech Recognition could not understand audio\")\n",
    "except sr.RequestError as e:\n",
    "    print(\"Could not request results from Google Speech Recognition service; {0}\".format(e))"
   ]
  }
 ],
 "metadata": {
  "kernelspec": {
   "display_name": "Python 3",
   "language": "python",
   "name": "python3"
  },
  "language_info": {
   "codemirror_mode": {
    "name": "ipython",
    "version": 3
   },
   "file_extension": ".py",
   "mimetype": "text/x-python",
   "name": "python",
   "nbconvert_exporter": "python",
   "pygments_lexer": "ipython3",
   "version": "3.8.8"
  }
 },
 "nbformat": 4,
 "nbformat_minor": 5
}
