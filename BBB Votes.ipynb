{
 "cells": [
  {
   "cell_type": "code",
   "execution_count": 26,
   "id": "4cf1f3f0",
   "metadata": {},
   "outputs": [
    {
     "name": "stdout",
     "output_type": "stream",
     "text": [
      "[33.43, 3.92, 31.8, 30.86, 1124281.0]\n"
     ]
    }
   ],
   "source": [
    "import pandas as pd\n",
    "import time\n",
    "from selenium import webdriver\n",
    "from selenium.webdriver.support.ui import WebDriverWait\n",
    "import pyautogui as py\n",
    "\n",
    "#variables\n",
    "browser = webdriver.Chrome()\n",
    "\n",
    "#sites\n",
    "uol = 'https://www.uol.com.br/splash/bbb/enquetes/2022/04/15/quem-voce-quer-eliminar-do-bbb-22.htm'\n",
    "naTelinha = 'https://natelinha.uol.com.br/bbb/votacao?050505'\n",
    "\n",
    "browser.get(uol)\n",
    "browser.maximize_window()\n",
    "browser.implicitly_wait(10)\n",
    "\n",
    "sites = ['Uol', 'Na Telinha', 'Área Vip', \n",
    "         'RD1', 'Fashion Bubles', 'Horas Brasil', \n",
    "         'Jornal DCI', 'F5/Folha', 'iBahia', \n",
    "         'Caras', 'Extra Globo', 'BolaVip', \n",
    "         'Capricho', 'Diário 24h', 'Diário Nordeste', \n",
    "         'EmOff', 'Votalhada']\n",
    "names = []\n",
    "\n",
    "#get names uol\n",
    "for i in range (0,4):\n",
    "    name = browser.find_element_by_xpath(f'//*[@id=\"answer-92010{i}\"]/div[2]/label/span[1]').text\n",
    "    names.append(name)\n",
    "\n",
    "\n",
    "#close cookie alert \n",
    "browser.find_element_by_xpath('/html/body/div[9]/div/div[2]/button').click()\n",
    "\n",
    "votes_uol = []\n",
    "\n",
    "#Open results\n",
    "time.sleep(2)         \n",
    "browser.find_element_by_xpath('/html/body/article/div[2]/div/div[1]/div/div[2]/div[1]/div[4]/div[1]/div[3]/a').click()\n",
    "time.sleep(2)                                  \n",
    "for i in range (0,4):                        \n",
    "    votacao = browser.find_element_by_xpath(f'//*[@id=\"answer-92010{i}\"]/div[1]/div/div/span[1]').get_attribute('textContent')\n",
    "    votes_uol.append(votacao)\n",
    "\n",
    "totalVot = browser.find_element_by_xpath('/html/body/div[11]/div/div/div[1]/span').text\n",
    "votes_uol.append(totalVot)\n",
    "votes_uol = [p.replace('%', '').replace(',', '.') for p in votes_uol]\n",
    "votes_uol = list(map(float, votes_uol))\n",
    "\n",
    "\n",
    "print(votes_uol)\n",
    "\n"
   ]
  },
  {
   "cell_type": "code",
   "execution_count": 27,
   "id": "8028277d",
   "metadata": {},
   "outputs": [
    {
     "name": "stdout",
     "output_type": "stream",
     "text": [
      "['Jessilane', 'Eliezer', 'Douglas Silva', 'Arthur Aguiar']\n"
     ]
    }
   ],
   "source": [
    "print (names)"
   ]
  },
  {
   "cell_type": "code",
   "execution_count": 23,
   "id": "0ae445e8",
   "metadata": {
    "scrolled": true
   },
   "outputs": [
    {
     "name": "stdout",
     "output_type": "stream",
     "text": [
      "[30.9, 11.0, 6.5, 51.6, 11.461]\n"
     ]
    }
   ],
   "source": [
    "import pandas as pd\n",
    "import time\n",
    "from selenium import webdriver\n",
    "from selenium.webdriver.support.ui import WebDriverWait\n",
    "import pyautogui as py\n",
    "\n",
    "#variables\n",
    "browser = webdriver.Chrome()\n",
    "\n",
    "#sites\n",
    "naTelinha = 'https://natelinha.uol.com.br/bbb/votacao?050505'\n",
    "\n",
    "browser.get(naTelinha)\n",
    "browser.maximize_window()\n",
    "browser.implicitly_wait(3)\n",
    "\n",
    "#close cookie alert \n",
    "browser.find_element_by_xpath('/html/body/div[4]/div/div[2]/button').click()\n",
    "\n",
    "\n",
    "time.sleep(3)\n",
    "\n",
    "try:\n",
    "    browser.find_element_by_xpath('/html/body/div[3]/section/div[2]/div[3]/div[1]/div[2]/div/div[2]/a').click()\n",
    "except:\n",
    "    browser.find_element_by_xpath('//*[@id=\"inarticle-close-video\"]').click()\n",
    "    time.sleep(2)\n",
    "    \n",
    "py.alert(\"Preencha o reCaptcha da página, depois clique em 'OK'\")\n",
    "\n",
    "browser.find_element_by_xpath('/html/body/div[3]/section/div[2]/div[3]/div[1]/div[2]/div/div[2]/a').click()\n",
    "time.sleep(3)\n",
    "             \n",
    "votes_na_telinha = []\n",
    "\n",
    "for i in range (1,5):                        \n",
    "    votacao = browser.find_element_by_xpath(f'/html/body/div[3]/section/div[2]/div[3]/div[1]/div[{i}]/div/div[2]/a').get_attribute('textContent')\n",
    "    votes_na_telinha.append(votacao)\n",
    "\n",
    "\n",
    "totalVot = browser.find_element_by_xpath('/html/body/div[3]/section/div[2]/div[3]/div[2]').text\n",
    "votes_na_telinha.append(totalVot)\n",
    "votes_na_telinha = [p.replace('%', '').replace(' votos', '') for p in votes_na_telinha]\n",
    "votes_na_telinha = list(map(float, votes_na_telinha))\n",
    "\n",
    "print(votes_na_telinha)"
   ]
  },
  {
   "cell_type": "code",
   "execution_count": 68,
   "id": "9d6df443",
   "metadata": {},
   "outputs": [
    {
     "name": "stdout",
     "output_type": "stream",
     "text": [
      "['\\xa050.14%', '\\xa024.68%', '\\xa018.11%', '\\xa07.07%']\n",
      "[50.14, 24.68, 18.11, 7.07, 24.358]\n"
     ]
    }
   ],
   "source": [
    "import pandas as pd\n",
    "import time\n",
    "from selenium import webdriver\n",
    "from selenium.webdriver.support.ui import WebDriverWait\n",
    "import pyautogui as py\n",
    "\n",
    "#variables\n",
    "browser = webdriver.Chrome()\n",
    "\n",
    "#sites\n",
    "area_vip = 'https://www.areavip.com.br/enquete/bbb-22-arthur-dg-eli-ou-jessi-quem-sai-vote/'\n",
    "\n",
    "browser.get(area_vip)\n",
    "browser.maximize_window()\n",
    "browser.implicitly_wait(3)\n",
    "\n",
    "\n",
    "browser.execute_script(\"window.scrollTo(0, 1850)\") \n",
    "time.sleep(2)\n",
    "py.moveTo(910, 2300)\n",
    "py.moveTo(930, 2360)\n",
    "time.sleep(3)\n",
    "\n",
    "#open results\n",
    "browser.find_element_by_xpath('//*[@id=\"PDI_form11093941\"]/div/div/div/div/div[3]/div/span[1]/a[1]').click()\n",
    "\n",
    "\n",
    "votes_area_vip = []\n",
    "\n",
    "for i in range (1,5):                        \n",
    "    votacao = browser.find_element_by_xpath(f'//*[@id=\"PDI_container11093941\"]/div/div/div/div/div[2]/div[{i}]/label/span[2]/span[1]').get_attribute('textContent')\n",
    "    votes_area_vip.append(votacao)\n",
    "    \n",
    "print(votes_area_vip)\n",
    "\n",
    "totalVot = browser.find_element_by_xpath('//*[@id=\"PDI_container11093941\"]/div/div/div/div/div[2]/div[5]/span').text\n",
    "votes_area_vip.append(totalVot)\n",
    "votes_area_vip = [p.replace('\\xa0', '').replace('%','').replace(',', '.') for p in votes_area_vip]\n",
    "votes_area_vip = list(map(float, votes_area_vip))\n",
    "\n",
    "print(votes_area_vip)"
   ]
  },
  {
   "cell_type": "code",
   "execution_count": null,
   "id": "784cb4f6",
   "metadata": {},
   "outputs": [],
   "source": []
  }
 ],
 "metadata": {
  "kernelspec": {
   "display_name": "Python 3",
   "language": "python",
   "name": "python3"
  },
  "language_info": {
   "codemirror_mode": {
    "name": "ipython",
    "version": 3
   },
   "file_extension": ".py",
   "mimetype": "text/x-python",
   "name": "python",
   "nbconvert_exporter": "python",
   "pygments_lexer": "ipython3",
   "version": "3.8.8"
  }
 },
 "nbformat": 4,
 "nbformat_minor": 5
}
